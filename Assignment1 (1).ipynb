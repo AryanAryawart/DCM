{
  "nbformat": 4,
  "nbformat_minor": 0,
  "metadata": {
    "colab": {
      "provenance": []
    },
    "kernelspec": {
      "name": "python3",
      "display_name": "Python 3"
    },
    "language_info": {
      "name": "python"
    }
  },
  "cells": [
    {
      "cell_type": "markdown",
      "source": [
        "Ques1-->>\n",
        "\n",
        "Ans-  The values are \" hello\" , -87.8\n",
        ", 6"
      ],
      "metadata": {
        "id": "TAHKQkXoINkh"
      }
    },
    {
      "cell_type": "markdown",
      "source": [
        "Ques2-->>\n",
        "\n",
        "Ans-  A string is a sequence of characters enclosed in either single quotes (') or double quotes (\").\n",
        "\n",
        "variable- it is a name that refers any value present in memory also it act as a container that can hold any type of data such as number , string , list.."
      ],
      "metadata": {
        "id": "ADS_QglhJOZX"
      }
    },
    {
      "cell_type": "markdown",
      "source": [
        "Ques3-->>\n",
        "\n",
        "Ans- three data types: 1. Int , 2. Float , 3. String\n",
        "\n",
        "int- whole numbers e.g 1,2,3....\n",
        "\n",
        "float- those values who are in points e.g. 45.216  , 45.165\n",
        "\n",
        "String - Sequence of characters enclosed in either single quotes or double quotes"
      ],
      "metadata": {
        "id": "CMd0hJX6KNS2"
      }
    },
    {
      "cell_type": "markdown",
      "source": [
        "Ques3-->>\n",
        "\n",
        "Ans--\n",
        "\n",
        "\n",
        "An expression is made up of:\n",
        "\n",
        "Values - like 5, 'hello', 3.14\n",
        "\n",
        "Variables - like x, y, name\n",
        "\n",
        "Operators - like +, -, *, /\n",
        "\n",
        "Function calls - like len(\"hello\"), sum([1, 2, 3])\n",
        "\n",
        ".Parentheses - to group parts: (2 + 3) * 5\n",
        "\n",
        "--------------------------------------------------------------------------------\n",
        "expression does----\n",
        "\n",
        "All expressions evaluate to (or produce) a value.\n",
        "\n",
        "\n",
        "Examples:\n",
        "2 + 3 → evaluates to 5\n",
        "\n",
        "\"hi\" + \" there\" → evaluates to 'hi there'\n",
        "\n",
        "len(\"Python\") → evaluates to 6"
      ],
      "metadata": {
        "id": "QsNKuJB8Mjwr"
      }
    },
    {
      "cell_type": "markdown",
      "source": [
        "Ques4-->>\n",
        "\n",
        "Ans- Statement :\n",
        "\n",
        "A statement is a complete instruction that does something\n",
        " - You can print it, use it in a calculation, or assign it to a variable.\n",
        "- Think of it as something that gives you a result.\n",
        "\n",
        "- - - - - - - - - - - -- -  -- - - - - - - - - - - - - - - - - - - - - -\n",
        "\n",
        "An expression is something that evaluates to a value.\n",
        "\n",
        "- You can print it, use it in a calculation, or assign it to a variable.\n",
        "\n",
        "\n",
        "- Think of it as something that gives you a result."
      ],
      "metadata": {
        "id": "OZ9wlhYPOCAR"
      }
    },
    {
      "cell_type": "code",
      "source": [
        "# Ques5:\n",
        "\n",
        "spam = 10\n",
        "\n",
        "\n",
        "#                      2 + 3 → is an expression (evaluates to 5)\n",
        "\n",
        "#   spam = 2 + 3 → is a statement (assigns that value to spam)"
      ],
      "metadata": {
        "id": "7n4sHCKPKJIe"
      },
      "execution_count": null,
      "outputs": []
    },
    {
      "cell_type": "code",
      "source": [
        "#     Ques-6\n",
        "\n",
        "bacon=22\n",
        "\n",
        "bacon+1"
      ],
      "metadata": {
        "colab": {
          "base_uri": "https://localhost:8080/"
        },
        "id": "2wsZB5Y6RUJ-",
        "outputId": "628c0767-c571-486b-a4a0-76239a7407ee"
      },
      "execution_count": null,
      "outputs": [
        {
          "output_type": "execute_result",
          "data": {
            "text/plain": [
              "23"
            ]
          },
          "metadata": {},
          "execution_count": 3
        }
      ]
    },
    {
      "cell_type": "markdown",
      "source": [
        "Ques7 -->> What should the values of the following two terms be?\n",
        "\n",
        "\n",
        "  'spam'+ 'spamspam' ; >>> Result: 'spamspamspamspam'\n",
        "  \n",
        "  'spam'*3;  >>> Result:  'spamspamspam'\n",
        "\n"
      ],
      "metadata": {
        "id": "_pYofXh0UGmO"
      }
    },
    {
      "cell_type": "markdown",
      "source": [
        "Ques8:\n",
        "\n",
        "Ans;  According to rules , variable name can't start with a number so eggs is valid variable name"
      ],
      "metadata": {
        "id": "x_gbcwnkV-Nj"
      }
    },
    {
      "cell_type": "markdown",
      "source": [
        "Ques9-->> 9. What three functions can be used to get the integer, floating-point number, or string\n",
        "version of a value?\n",
        "\n",
        "Ans-  Yes"
      ],
      "metadata": {
        "id": "S3G3XPdPWtjN"
      }
    },
    {
      "cell_type": "markdown",
      "source": [
        "Ques10>>10. Why does this expression cause an error? How can you fix it?\n",
        "&#39;I have eaten &#39; + 99+ 'burritos'.\n",
        "\n",
        "Ans-- 'I have eaten ' + '99' + ' burritos.'\n"
      ],
      "metadata": {
        "id": "5YIHsRDBXK5m"
      }
    },
    {
      "cell_type": "code",
      "source": [],
      "metadata": {
        "id": "CjW5zZLYXytX"
      },
      "execution_count": null,
      "outputs": []
    }
  ]
}